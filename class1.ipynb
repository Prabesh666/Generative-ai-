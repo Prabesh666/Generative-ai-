{
 "cells": [
  {
   "cell_type": "markdown",
   "id": "e0bf4aea",
   "metadata": {},
   "source": [
    "### Neural Network with three input neurons and one hidden neurons"
   ]
  },
  {
   "cell_type": "code",
   "execution_count": 9,
   "id": "f96b4ab5",
   "metadata": {},
   "outputs": [
    {
     "name": "stdout",
     "output_type": "stream",
     "text": [
      "[[4.1]]\n"
     ]
    }
   ],
   "source": [
    "import numpy as np\n",
    "\n",
    "input = np.array([[1.5], [2], [3.0]])\n",
    "\n",
    "weight_hidden = np.array([[0.2, 0.3, 0.4]])\n",
    "\n",
    "bias_hidden = np.array([[2]])\n",
    "\n",
    "hidden_outputs = np.dot(weight_hidden, input) + bias_hidden\n",
    "\n",
    "\n",
    "\n",
    "def relu(x):\n",
    "    return np.maximum(0, x)\n",
    "\n",
    "\n",
    "\n",
    "output = relu(hidden_outputs)\n",
    "print(output)\n"
   ]
  },
  {
   "cell_type": "markdown",
   "id": "252f9533",
   "metadata": {},
   "source": [
    "### Neural Network with three input neurons and two hidden neurons"
   ]
  },
  {
   "cell_type": "code",
   "execution_count": 21,
   "id": "54e6b5a9",
   "metadata": {},
   "outputs": [
    {
     "name": "stdout",
     "output_type": "stream",
     "text": [
      "[[3.45]\n",
      " [5.25]]\n"
     ]
    }
   ],
   "source": [
    "# Import numpy\n",
    "import numpy as np\n",
    "\n",
    "# Input vector (3 features, single example)\n",
    "input = np.array([[1.5], [2], [3.0]])\n",
    "\n",
    "# Weights for 2 neurons in hidden layer (2 neurons, 3 weights each)\n",
    "weight_hidden = np.array([[0.1, 0.2, 0.3],\n",
    "                          [0.5, -0.6, 0.9]])\n",
    "\n",
    "# Bias for each of the 2 neurons\n",
    "bias_hidden = np.array([[2], \n",
    "                        [3]])\n",
    "\n",
    "# Linear combination: weight * input + bias\n",
    "hidden_outputs = np.dot(weight_hidden, input) + bias_hidden\n",
    "\n",
    "# ReLU activation function\n",
    "def relu(x):\n",
    "    return np.maximum(0, x)\n",
    "\n",
    "# Apply activation\n",
    "output = relu(hidden_outputs)\n",
    "\n",
    "# Print final output\n",
    "print(output)\n"
   ]
  },
  {
   "cell_type": "code",
   "execution_count": 22,
   "id": "377fafe5-5932-462d-a98f-679f7cabd9dc",
   "metadata": {},
   "outputs": [],
   "source": [
    "### TODAY TASK: CREATE NEURAL NETWORK WITH THREE INPUT NEURONS, TWO HIDDEN NEURONS AND ONE OUTPUT NEURON. AND USE RELU ACTIVATION FUNCTION"
   ]
  },
  {
   "cell_type": "markdown",
   "id": "19cce78c",
   "metadata": {},
   "source": [
    "#Answer 1"
   ]
  },
  {
   "cell_type": "code",
   "execution_count": 23,
   "id": "47c201a0",
   "metadata": {},
   "outputs": [],
   "source": [
    "import torch\n",
    "import torch.nn as nn\n",
    "import torch.nn.functional as F\n"
   ]
  },
  {
   "cell_type": "code",
   "execution_count": null,
   "id": "62a0acd9",
   "metadata": {},
   "outputs": [],
   "source": [
    "class SimpleNN(nn.Module):\n",
    "    def __init__(self):\n",
    "        super(SimpleNN, self).__init__()\n",
    "        self.hidden = nn.Linear(3, 2)  # 3 inputs → 2 hidden neurons\n",
    "        self.output = nn.Linear(2, 1)  # 2 hidden → 1 output\n",
    "\n",
    "    def forward(self, x):\n",
    "        x = F.relu(self.hidden(x))    # ReLU activation in hidden layer\n",
    "        x = self.output(x)            # No activation in output (for regression)\n",
    "        return x\n",
    "    \n"
   ]
  },
  {
   "cell_type": "code",
   "execution_count": 27,
   "id": "cb05d0d8",
   "metadata": {},
   "outputs": [
    {
     "name": "stdout",
     "output_type": "stream",
     "text": [
      "Output: tensor([[-0.1067]], grad_fn=<AddmmBackward0>)\n"
     ]
    }
   ],
   "source": [
    "model = SimpleNN()\n",
    "\n",
    "# Sample input with 3 features\n",
    "x = torch.tensor([[1.0, 2.0, 3.0]], dtype=torch.float32)\n",
    "\n",
    "# Forward pass\n",
    "output = model(x)\n",
    "print(\"Output:\", output)\n"
   ]
  }
 ],
 "metadata": {
  "kernelspec": {
   "display_name": ".venv",
   "language": "python",
   "name": "python3"
  },
  "language_info": {
   "codemirror_mode": {
    "name": "ipython",
    "version": 3
   },
   "file_extension": ".py",
   "mimetype": "text/x-python",
   "name": "python",
   "nbconvert_exporter": "python",
   "pygments_lexer": "ipython3",
   "version": "3.11.2"
  }
 },
 "nbformat": 4,
 "nbformat_minor": 5
}
