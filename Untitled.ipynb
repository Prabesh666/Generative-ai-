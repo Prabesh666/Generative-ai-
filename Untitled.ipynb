{
 "cells": [
  {
   "cell_type": "code",
   "execution_count": 3,
   "id": "5473da45-3e1c-409f-9dfe-7e9d75b93b61",
   "metadata": {},
   "outputs": [
    {
     "ename": "ModuleNotFoundError",
     "evalue": "No module named 'torch'",
     "output_type": "error",
     "traceback": [
      "\u001b[0;31m---------------------------------------------------------------------------\u001b[0m",
      "\u001b[0;31mModuleNotFoundError\u001b[0m                       Traceback (most recent call last)",
      "Cell \u001b[0;32mIn[3], line 1\u001b[0m\n\u001b[0;32m----> 1\u001b[0m \u001b[38;5;28;01mimport\u001b[39;00m\u001b[38;5;250m \u001b[39m\u001b[38;5;21;01mtorch\u001b[39;00m  \n\u001b[1;32m      2\u001b[0m inputs \u001b[38;5;241m=\u001b[39m torch\u001b[38;5;241m.\u001b[39mtensor([\n\u001b[1;32m      3\u001b[0m     [\u001b[38;5;241m1\u001b[39m,\u001b[38;5;241m2\u001b[39m],\n\u001b[1;32m      4\u001b[0m     [\u001b[38;5;241m3\u001b[39m,\u001b[38;5;241m4\u001b[39m],\n\u001b[1;32m      5\u001b[0m     [\u001b[38;5;241m5\u001b[39m,\u001b[38;5;241m6\u001b[39m],\n\u001b[1;32m      6\u001b[0m     [\u001b[38;5;241m7\u001b[39m,\u001b[38;5;241m8\u001b[39m]\n\u001b[1;32m      7\u001b[0m     ], dtype\u001b[38;5;241m=\u001b[39mtorch\u001b[38;5;241m.\u001b[39mfloat32)\n\u001b[1;32m     10\u001b[0m y_true \u001b[38;5;241m=\u001b[39m torch\u001b[38;5;241m.\u001b[39mtensor([\n\u001b[1;32m     11\u001b[0m     [\u001b[38;5;241m10\u001b[39m],\n\u001b[1;32m     12\u001b[0m     [\u001b[38;5;241m20\u001b[39m],\n\u001b[1;32m     13\u001b[0m     [\u001b[38;5;241m30\u001b[39m],\n\u001b[1;32m     14\u001b[0m     [\u001b[38;5;241m40\u001b[39m]\n\u001b[1;32m     15\u001b[0m     ], dtype\u001b[38;5;241m=\u001b[39mtorch\u001b[38;5;241m.\u001b[39mfloat32)\n",
      "\u001b[0;31mModuleNotFoundError\u001b[0m: No module named 'torch'"
     ]
    }
   ],
   "source": [
    "\n",
    "\n",
    "import torch  \n",
    "inputs = torch.tensor([\n",
    "    [1,2],\n",
    "    [3,4],\n",
    "    [5,6],\n",
    "    [7,8]\n",
    "    ], dtype=torch.float32)\n",
    "\n",
    "\n",
    "y_true = torch.tensor([\n",
    "    [10],\n",
    "    [20],\n",
    "    [30],\n",
    "    [40]\n",
    "    ], dtype=torch.float32)\n",
    "\n",
    "\n",
    "# Initialize weight and bias\n",
    "\n",
    "weights = torch.rand((2,1), requires_grad=True)\n",
    "bias = torch.rand((1,), requires_grad=True)\n",
    "\n",
    "\n",
    "epochs = 1000\n",
    "learning_rate = 0.01\n",
    "\n",
    "\n",
    "# Activation function\n",
    "def relu(x):\n",
    "    return torch.maximum(torch.tensor(0.0), x)\n",
    "\n",
    "for epoch in range(epochs):\n",
    "    linear_output = inputs @ weights + bias\n",
    "    y_pred = relu(linear_output)\n",
    "    \n",
    "    loss = torch.mean((y_pred - y_true)**2)\n",
    "    \n",
    "    loss.backward()\n",
    "    \n",
    "    with torch.no_grad():\n",
    "        weights -= learning_rate *weights.grad\n",
    "        bias -= learning_rate * bias.grad\n",
    "        \n",
    "    \n",
    "    # zero_grad\n",
    "    weights.grad.zero_()\n",
    "    bias.grad.zero_()\n",
    "    \n",
    "    \n",
    "    if epoch % 100 == 0:\n",
    "        print(f\"Epoch {epoch} loss {loss.item()}\")\n",
    "    \n",
    "    \n",
    "\n",
    "\n",
    "\n"
   ]
  },
  {
   "cell_type": "code",
   "execution_count": null,
   "id": "77d54f56-6a55-4f24-ac7b-473da61f75f0",
   "metadata": {},
   "outputs": [],
   "source": []
  },
  {
   "cell_type": "code",
   "execution_count": null,
   "id": "2a316418-ba12-4998-a86f-5cc80b49b150",
   "metadata": {},
   "outputs": [],
   "source": [
    "#\n"
   ]
  },
  {
   "cell_type": "code",
   "execution_count": null,
   "id": "01249739-a6ce-456c-944f-1f8335edbbf4",
   "metadata": {},
   "outputs": [
    {
     "data": {
      "text/plain": [
       "tensor([[ 7.7587],\n",
       "        [17.7602],\n",
       "        [27.7617],\n",
       "        [37.7632]], grad_fn=<MmBackward0>)"
      ]
     },
     "execution_count": 4,
     "metadata": {},
     "output_type": "execute_result"
    }
   ],
   "source": [
    "inputs @ weights"
   ]
  },
  {
   "cell_type": "code",
   "execution_count": null,
   "id": "e05e5305-418a-4221-adbf-dc1ded9521ff",
   "metadata": {},
   "outputs": [
    {
     "data": {
      "text/plain": [
       "tensor([[0.3029, 0.3388],\n",
       "        [0.3558, 0.1303],\n",
       "        [0.2333, 0.5726],\n",
       "        [0.7751, 0.8921]])"
      ]
     },
     "execution_count": 5,
     "metadata": {},
     "output_type": "execute_result"
    }
   ],
   "source": [
    "torch.rand((4, 2))\n"
   ]
  },
  {
   "cell_type": "code",
   "execution_count": null,
   "id": "bdeb52f6-afa6-454f-ae52-0d71393b3a3a",
   "metadata": {},
   "outputs": [],
   "source": []
  }
 ],
 "metadata": {
  "kernelspec": {
   "display_name": "Python [conda env:base] *",
   "language": "python",
   "name": "conda-base-py"
  },
  "language_info": {
   "codemirror_mode": {
    "name": "ipython",
    "version": 3
   },
   "file_extension": ".py",
   "mimetype": "text/x-python",
   "name": "python",
   "nbconvert_exporter": "python",
   "pygments_lexer": "ipython3",
   "version": "3.13.5"
  }
 },
 "nbformat": 4,
 "nbformat_minor": 5
}
