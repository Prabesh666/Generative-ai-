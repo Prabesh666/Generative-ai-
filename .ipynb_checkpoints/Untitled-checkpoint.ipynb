{
 "cells": [
  {
   "cell_type": "code",
   "execution_count": 1,
   "id": "5473da45-3e1c-409f-9dfe-7e9d75b93b61",
   "metadata": {},
   "outputs": [
    {
     "name": "stderr",
     "output_type": "stream",
     "text": [
      "/Users/prabeshshah/Desktop/Generative-ai-/venv/lib/python3.13/site-packages/torch/_subclasses/functional_tensor.py:276: UserWarning: Failed to initialize NumPy: No module named 'numpy' (Triggered internally at /Users/runner/work/pytorch/pytorch/pytorch/torch/csrc/utils/tensor_numpy.cpp:81.)\n",
      "  cpu = _conversion_method_template(device=torch.device(\"cpu\"))\n"
     ]
    },
    {
     "name": "stdout",
     "output_type": "stream",
     "text": [
      "Epoch 0 loss 322.83056640625\n",
      "Epoch 100 loss 0.062193457037210464\n",
      "Epoch 200 loss 0.01942487806081772\n",
      "Epoch 300 loss 0.0060667674988508224\n",
      "Epoch 400 loss 0.0018949335208162665\n",
      "Epoch 500 loss 0.0005918402457609773\n",
      "Epoch 600 loss 0.00018485826149117202\n",
      "Epoch 700 loss 5.772947406512685e-05\n",
      "Epoch 800 loss 1.802538099582307e-05\n",
      "Epoch 900 loss 5.632307875202969e-06\n"
     ]
    }
   ],
   "source": [
    "\n",
    "\n",
    "import torch  \n",
    "inputs = torch.tensor([\n",
    "    [1,2],\n",
    "    [3,4],\n",
    "    [5,6],\n",
    "    [7,8]\n",
    "    ], dtype=torch.float32)\n",
    "\n",
    "\n",
    "y_true = torch.tensor([\n",
    "    [10],\n",
    "    [20],\n",
    "    [30],\n",
    "    [40]\n",
    "    ], dtype=torch.float32)\n",
    "\n",
    "\n",
    "# Initialize weight and bias\n",
    "\n",
    "weights = torch.rand((2,1), requires_grad=True)\n",
    "bias = torch.rand((1,), requires_grad=True)\n",
    "\n",
    "\n",
    "epochs = 1000\n",
    "learning_rate = 0.01\n",
    "\n",
    "\n",
    "# Activation function\n",
    "def relu(x):\n",
    "    return torch.maximum(torch.tensor(0.0), x)\n",
    "\n",
    "for epoch in range(epochs):\n",
    "    linear_output = inputs @ weights + bias\n",
    "    y_pred = relu(linear_output)\n",
    "    \n",
    "    loss = torch.mean((y_pred - y_true)**2)\n",
    "    \n",
    "    loss.backward()\n",
    "    \n",
    "    with torch.no_grad():\n",
    "        weights -= learning_rate *weights.grad\n",
    "        bias -= learning_rate * bias.grad\n",
    "        \n",
    "    \n",
    "    # zero_grad\n",
    "    weights.grad.zero_()\n",
    "    bias.grad.zero_()\n",
    "    \n",
    "    \n",
    "    if epoch % 100 == 0:\n",
    "        print(f\"Epoch {epoch} loss {loss.item()}\")\n",
    "    \n",
    "    \n",
    "\n",
    "\n",
    "\n"
   ]
  },
  {
   "cell_type": "code",
   "execution_count": null,
   "id": "77d54f56-6a55-4f24-ac7b-473da61f75f0",
   "metadata": {},
   "outputs": [],
   "source": []
  },
  {
   "cell_type": "code",
   "execution_count": 2,
   "id": "2a316418-ba12-4998-a86f-5cc80b49b150",
   "metadata": {},
   "outputs": [],
   "source": [
    "#\n"
   ]
  },
  {
   "cell_type": "code",
   "execution_count": 3,
   "id": "01249739-a6ce-456c-944f-1f8335edbbf4",
   "metadata": {},
   "outputs": [
    {
     "data": {
      "text/plain": [
       "tensor([[ 8.0393],\n",
       "        [18.0404],\n",
       "        [28.0415],\n",
       "        [38.0425]], grad_fn=<MmBackward0>)"
      ]
     },
     "execution_count": 3,
     "metadata": {},
     "output_type": "execute_result"
    }
   ],
   "source": [
    "inputs @ weights"
   ]
  },
  {
   "cell_type": "code",
   "execution_count": 4,
   "id": "e05e5305-418a-4221-adbf-dc1ded9521ff",
   "metadata": {},
   "outputs": [
    {
     "data": {
      "text/plain": [
       "tensor([[0.1365, 0.9084],\n",
       "        [0.6008, 0.0727],\n",
       "        [0.6970, 0.7843],\n",
       "        [0.9337, 0.5386]])"
      ]
     },
     "execution_count": 4,
     "metadata": {},
     "output_type": "execute_result"
    }
   ],
   "source": [
    "torch.rand((4, 2))\n"
   ]
  },
  {
   "cell_type": "code",
   "execution_count": null,
   "id": "bdeb52f6-afa6-454f-ae52-0d71393b3a3a",
   "metadata": {},
   "outputs": [],
   "source": []
  }
 ],
 "metadata": {
  "kernelspec": {
   "display_name": "venv",
   "language": "python",
   "name": "python3"
  },
  "language_info": {
   "codemirror_mode": {
    "name": "ipython",
    "version": 3
   },
   "file_extension": ".py",
   "mimetype": "text/x-python",
   "name": "python",
   "nbconvert_exporter": "python",
   "pygments_lexer": "ipython3",
   "version": "3.13.5"
  }
 },
 "nbformat": 4,
 "nbformat_minor": 5
}
